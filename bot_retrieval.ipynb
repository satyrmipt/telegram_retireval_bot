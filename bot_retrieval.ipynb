{
 "cells": [
  {
   "cell_type": "code",
   "execution_count": 39,
   "id": "2beddc0b-f428-4793-9712-a5ff3e21d909",
   "metadata": {},
   "outputs": [],
   "source": [
    "import pandas as pd"
   ]
  },
  {
   "cell_type": "code",
   "execution_count": 44,
   "id": "e41290ef-8d65-444f-a806-5e7fcf080ba8",
   "metadata": {},
   "outputs": [
    {
     "name": "stdout",
     "output_type": "stream",
     "text": [
      "Reading vector db, wait a bit...\n",
      "Working dataset shape: (8689, 23)\n",
      "Hey, I'm leonard from TBB. Print 'stop' to reset session.\n",
      "\n"
     ]
    },
    {
     "name": "stdin",
     "output_type": "stream",
     "text": [
      " stop\n"
     ]
    },
    {
     "name": "stdout",
     "output_type": "stream",
     "text": [
      "Good bye.\n"
     ]
    }
   ],
   "source": [
    "class ChatBot():\n",
    "\n",
    "    def __init__(self, vector_db_path: str, context_len: int =3, \n",
    "                 similarity_type: str = 'retrieval', character: str = 'Leonard', \n",
    "                 verbose: int =0):\n",
    "        '''\n",
    "        Bot makes conversation session and reply to you.\n",
    "        This construcor reads heavy vectorized file/database to look for suitable answers during conversation so it take a wile\n",
    "        Inputs:\n",
    "            - vector_db_path:path to file wich will be used to retriev answers and context\n",
    "            - contexlen: max number of previous question and answers (both counts) to take into account during retrieval preocess (depth of context),  must be in [0,5]\n",
    "            - similarity_type: method to find appropriate answer. Only 'retrieval' implemented right now\n",
    "            - character: character of bot. Do not change if you don't participate in data gathering\n",
    "            - verbose: used for debugging (print extra info after each reply)\n",
    "        '''\n",
    "        self.context_len = context_len\n",
    "        self.prev_conversation = []\n",
    "        self.qa_iter_count = 0 \n",
    "        self.current_q = ''\n",
    "        self.current_a = ''\n",
    "        self.character = character.lower()\n",
    "        self.session_stop_word = 'stop'\n",
    "        self.debug_verbose = verbose\n",
    "        self.similarity_type = similarity_type\n",
    "        \n",
    "        if similarity_type != 'retrieval':\n",
    "            raise ValueError(f'{similarity_type=} not implemented yet, see documntation')\n",
    "\n",
    "        if context_len < 0 or context_len > 5:\n",
    "            raise ValueError(f'{context_len=} not in [0...5] range. Dataset for retrieval algorithm was build with maximum 5 previous interactions')\n",
    "\n",
    "        # self.vdf = pd.read_excel('C:\\\\Users\\\\satyr\\\\Documents\\\\edu\\\\nlp2\\\\hw1\\\\data\\\\eng_script_vectorized.xlsx')\n",
    "        if verbose !=0: print('Reading vector db, wait a bit...')\n",
    "        self.vdf = pd.read_excel(vector_db_path)\n",
    "        if self.character not in self.vdf['person'].str.lower().unique():\n",
    "            raise ValueError(f\"{self.character=} is absent is training data. Use one of {self.vdf['person'].str.lower().unique()}\")\n",
    "        else:\n",
    "            self.vdf = self.vdf[self.vdf['person'].str.lower() == self.character]\n",
    "            if verbose !=0: print(f\"Working dataset shape: {self.vdf.shape}\")\n",
    "\n",
    "    def qa_iter(self, question: str = '') -> str:\n",
    "        '''\n",
    "        Single iteration of question and answer. Listen your question, find appropriate answer, log both for future interactions\n",
    "        '''\n",
    "        self.current_q = question.lower()\n",
    "        if len(self.prev_conversation) > self.context_len:\n",
    "            self.prev_conversation.pop(0)\n",
    "        self.prev_conversation.append(self.current_q)\n",
    "        self.qa_iter_count += 1\n",
    "        self.current_a = 'ok, nice to hear from you'.lower()\n",
    "        if len(self.prev_conversation) > self.context_len:\n",
    "            self.prev_conversation.pop(0)\n",
    "        self.prev_conversation.append(self.current_a)\n",
    "        return self.current_a\n",
    "\n",
    "    def qa_session(self):\n",
    "        '''\n",
    "        this function are used only for debugging in local env, use Telegram Bot wrapper in prod\n",
    "        '''\n",
    "        if self.qa_iter_count == 0:\n",
    "            print(f\"Hey, I'm {self.character} from TBB. Print '{self.session_stop_word}' to reset session.\\n\")\n",
    "        while True:\n",
    "            self.current_q = input().lower()\n",
    "            if self.current_q == 'stop':\n",
    "                print(\"Good bye.\")\n",
    "                break\n",
    "            self.qa_iter(self.current_q)\n",
    "            print(f\"You said: '{self.current_q}'. Answer is {self.current_a}\\n\")\n",
    "            if self.debug_verbose !=0:\n",
    "                print(self.__dict__)\n",
    "\n",
    "        \n",
    "        \n",
    "\n",
    "bot = ChatBot(vector_db_path = \"C:\\\\Users\\\\satyr\\\\Documents\\\\edu\\\\nlp2\\\\hw1\\\\data\\\\eng_script_vectorized.xlsx\",\n",
    "              context_len = 3, \n",
    "              similarity_type = 'retrieval', \n",
    "              character = 'Leonard',\n",
    "              verbose=1 )\n",
    "bot.qa_session()"
   ]
  },
  {
   "cell_type": "code",
   "execution_count": 17,
   "id": "dce98105-7b4f-4a37-8f22-9a466e686c3c",
   "metadata": {
    "scrolled": true
   },
   "outputs": [
    {
     "name": "stdin",
     "output_type": "stream",
     "text": [
      " Hello leonard\n"
     ]
    },
    {
     "name": "stdout",
     "output_type": "stream",
     "text": [
      "You said: Hello leonard\n"
     ]
    },
    {
     "name": "stdin",
     "output_type": "stream",
     "text": [
      " you hear me good!\n"
     ]
    },
    {
     "name": "stdout",
     "output_type": "stream",
     "text": [
      "You said: you hear me good!\n"
     ]
    },
    {
     "name": "stdin",
     "output_type": "stream",
     "text": [
      " stop\n"
     ]
    },
    {
     "name": "stdout",
     "output_type": "stream",
     "text": [
      "You said: stop\n"
     ]
    }
   ],
   "source": [
    "# user_input = ''\n",
    "# while True:\n",
    "#     user_input = input()\n",
    "#     print(f'You said: {user_input}')\n",
    "#     if user_input.lower() == 'stop':\n",
    "#         break"
   ]
  },
  {
   "cell_type": "code",
   "execution_count": null,
   "id": "97547355-226c-4032-b066-2205731ad04b",
   "metadata": {},
   "outputs": [],
   "source": []
  }
 ],
 "metadata": {
  "kernelspec": {
   "display_name": "Python 3 (Spyder)",
   "language": "python3",
   "name": "python3"
  },
  "language_info": {
   "codemirror_mode": {
    "name": "ipython",
    "version": 3
   },
   "file_extension": ".py",
   "mimetype": "text/x-python",
   "name": "python",
   "nbconvert_exporter": "python",
   "pygments_lexer": "ipython3",
   "version": "3.11.5"
  }
 },
 "nbformat": 4,
 "nbformat_minor": 5
}
