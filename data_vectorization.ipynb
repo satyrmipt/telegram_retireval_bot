{
 "cells": [
  {
   "cell_type": "markdown",
   "id": "8fa81982-8b57-4c87-be64-ae796adb8f7f",
   "metadata": {},
   "source": [
    "### Аннтоация для процеряющего\n",
    "\n",
    "В предыдущем ноутбуке мы подготовили данны на английском языке.\n",
    "В этом ноутбуке мы векторизуем даныне.\n",
    "\n",
    "Мы испольузем два подхода к векторизации:\n",
    "    glove\n",
    "    sentence bert\n",
    "при этом будем хранить в одном нотубуке оба набора полей.\n"
   ]
  },
  {
   "cell_type": "code",
   "execution_count": 1,
   "id": "12d748d1-45e5-4f0a-9126-60abbbc20f71",
   "metadata": {},
   "outputs": [
    {
     "data": {
      "text/plain": [
       "'C:\\\\Users\\\\satyr\\\\Documents\\\\edu\\\\nlp2\\\\hw1'"
      ]
     },
     "execution_count": 1,
     "metadata": {},
     "output_type": "execute_result"
    }
   ],
   "source": [
    "pwd"
   ]
  },
  {
   "cell_type": "code",
   "execution_count": 2,
   "id": "7b08a517-767f-4fba-9a5a-309d9da1393d",
   "metadata": {},
   "outputs": [],
   "source": [
    "import pandas as pd\n",
    "import numpy as np\n",
    "import csv\n",
    "import os"
   ]
  },
  {
   "cell_type": "markdown",
   "id": "169830b2-4ba5-4732-a0ca-8a3db2b9da10",
   "metadata": {},
   "source": [
    "#### 1) Glove-векторизация"
   ]
  },
  {
   "cell_type": "code",
   "execution_count": 13,
   "id": "169f1f53-b66f-4b7a-87a1-e00cf72773b9",
   "metadata": {},
   "outputs": [
    {
     "name": "stdout",
     "output_type": "stream",
     "text": [
      "[['test', '!', 'test', '...', 'test'], ['nan']]\n",
      "[array([-7.340800e-02,  8.534000e-03,  9.847920e-02,  3.391800e-02,\n",
      "        2.411000e-02, -6.095600e-02,  1.384000e-01, -1.513906e-01,\n",
      "        8.705340e-01,  3.291720e-01, -3.731000e-02,  1.274720e-01,\n",
      "       -7.757520e-01,  2.586440e-02,  3.905036e-01,  1.969614e-01,\n",
      "        2.537880e-01, -9.060200e-02, -1.092836e+00, -3.475260e-01,\n",
      "       -2.583238e-01,  4.889400e-01,  6.482980e-01, -2.255600e-02,\n",
      "        6.670440e-01, -1.606600e+00, -4.698182e-01, -1.470380e-01,\n",
      "        1.048900e-01, -2.829720e-01,  2.833420e+00,  4.274160e-01,\n",
      "       -7.524740e-01, -1.413600e-01,  5.324380e-01, -1.111954e-01,\n",
      "        1.244022e+00,  2.386660e-01, -2.032772e-01, -5.123524e-01,\n",
      "       -1.610000e-03, -2.870964e-01, -9.301800e-02,  2.557922e-01,\n",
      "        3.026974e-01,  8.703960e-01,  3.683180e-01,  3.772240e-01,\n",
      "        4.703900e-01,  1.513260e-01])]\n"
     ]
    }
   ],
   "source": [
    "# импотируем свой модуль, не внося постоянные изменения в path\n",
    "import sys\n",
    "sys.path.append(\"C:\\\\Users\\\\satyr\\\\Documents\\\\edu\\\\nlp2\\\\hw1\\\\\")\n",
    "from my_tokenize_vectorize import Tokenizer, Glove_vectorizer, SentBERT_vectorizer\n",
    "\n",
    "tk = Tokenizer('wordpunct_tokenize', lower = True)\n",
    "v = Glove_vectorizer(dim = 50, path_to_emb_folder = \"C:\\\\Users\\\\satyr\\\\Documents\\\\edu\\\\nlp2\\\\hw1\\\\data\")\n",
    "print(tk.tokenize_corpus(corpus=['test! test... Test', np.nan]))\n",
    "print(v.vectorize_tokens(tk.tokenize_corpus(corpus=['test! test... Test', np.nan]), 'avg'))\n",
    "# видим, что приведение к нижнему регистру и токенизация работают и вакторизация работают"
   ]
  },
  {
   "cell_type": "code",
   "execution_count": 8,
   "id": "01e0fb5b-c3b1-43b5-9b68-19cd222e215f",
   "metadata": {},
   "outputs": [],
   "source": [
    "df = pd.read_excel('C:\\\\Users\\\\satyr\\\\Documents\\\\edu\\\\nlp2\\\\hw1\\\\data\\\\eng_script_enriched_2.xlsx')"
   ]
  },
  {
   "cell_type": "code",
   "execution_count": 9,
   "id": "bbd8dee5-8aa8-4179-9115-1af7e34f16bd",
   "metadata": {},
   "outputs": [
    {
     "name": "stdout",
     "output_type": "stream",
     "text": [
      "(47790, 17)\n",
      "Index(['series_num', 'ep_num', 'ep_name', 'phrase_rank', 'person', 'text',\n",
      "       'person_orig', 'person_context', 'scene_context', 'text_5_prev',\n",
      "       'person_5_prev', 'person_2_prev', 'text_1_shift', 'text_2_shift',\n",
      "       'text_3_shift', 'text_4_shift', 'text_5_shift'],\n",
      "      dtype='object')\n",
      "<class 'pandas.core.frame.DataFrame'>\n",
      "RangeIndex: 47790 entries, 0 to 47789\n",
      "Data columns (total 17 columns):\n",
      " #   Column          Non-Null Count  Dtype \n",
      "---  ------          --------------  ----- \n",
      " 0   series_num      47790 non-null  int64 \n",
      " 1   ep_num          47790 non-null  int64 \n",
      " 2   ep_name         47790 non-null  object\n",
      " 3   phrase_rank     47790 non-null  int64 \n",
      " 4   person          47790 non-null  object\n",
      " 5   text            47786 non-null  object\n",
      " 6   person_orig     47790 non-null  object\n",
      " 7   person_context  1114 non-null   object\n",
      " 8   scene_context   47790 non-null  object\n",
      " 9   text_5_prev     47770 non-null  object\n",
      " 10  person_5_prev   47790 non-null  object\n",
      " 11  person_2_prev   47790 non-null  object\n",
      " 12  text_1_shift    46890 non-null  object\n",
      " 13  text_2_shift    46025 non-null  object\n",
      " 14  text_3_shift    45177 non-null  object\n",
      " 15  text_4_shift    44358 non-null  object\n",
      " 16  text_5_shift    43558 non-null  object\n",
      "dtypes: int64(3), object(14)\n",
      "memory usage: 6.2+ MB\n",
      "None\n"
     ]
    },
    {
     "data": {
      "text/html": [
       "<div>\n",
       "<style scoped>\n",
       "    .dataframe tbody tr th:only-of-type {\n",
       "        vertical-align: middle;\n",
       "    }\n",
       "\n",
       "    .dataframe tbody tr th {\n",
       "        vertical-align: top;\n",
       "    }\n",
       "\n",
       "    .dataframe thead th {\n",
       "        text-align: right;\n",
       "    }\n",
       "</style>\n",
       "<table border=\"1\" class=\"dataframe\">\n",
       "  <thead>\n",
       "    <tr style=\"text-align: right;\">\n",
       "      <th></th>\n",
       "      <th>series_num</th>\n",
       "      <th>ep_num</th>\n",
       "      <th>phrase_rank</th>\n",
       "    </tr>\n",
       "  </thead>\n",
       "  <tbody>\n",
       "    <tr>\n",
       "      <th>count</th>\n",
       "      <td>47790.000000</td>\n",
       "      <td>47790.000000</td>\n",
       "      <td>47790.000000</td>\n",
       "    </tr>\n",
       "    <tr>\n",
       "      <th>mean</th>\n",
       "      <td>5.891630</td>\n",
       "      <td>12.402134</td>\n",
       "      <td>117.992216</td>\n",
       "    </tr>\n",
       "    <tr>\n",
       "      <th>std</th>\n",
       "      <td>2.731414</td>\n",
       "      <td>6.787104</td>\n",
       "      <td>69.354258</td>\n",
       "    </tr>\n",
       "    <tr>\n",
       "      <th>min</th>\n",
       "      <td>1.000000</td>\n",
       "      <td>1.000000</td>\n",
       "      <td>0.000000</td>\n",
       "    </tr>\n",
       "    <tr>\n",
       "      <th>25%</th>\n",
       "      <td>4.000000</td>\n",
       "      <td>7.000000</td>\n",
       "      <td>58.000000</td>\n",
       "    </tr>\n",
       "    <tr>\n",
       "      <th>50%</th>\n",
       "      <td>6.000000</td>\n",
       "      <td>13.000000</td>\n",
       "      <td>117.000000</td>\n",
       "    </tr>\n",
       "    <tr>\n",
       "      <th>75%</th>\n",
       "      <td>8.000000</td>\n",
       "      <td>18.000000</td>\n",
       "      <td>176.000000</td>\n",
       "    </tr>\n",
       "    <tr>\n",
       "      <th>max</th>\n",
       "      <td>10.000000</td>\n",
       "      <td>24.000000</td>\n",
       "      <td>285.000000</td>\n",
       "    </tr>\n",
       "  </tbody>\n",
       "</table>\n",
       "</div>"
      ],
      "text/plain": [
       "         series_num        ep_num   phrase_rank\n",
       "count  47790.000000  47790.000000  47790.000000\n",
       "mean       5.891630     12.402134    117.992216\n",
       "std        2.731414      6.787104     69.354258\n",
       "min        1.000000      1.000000      0.000000\n",
       "25%        4.000000      7.000000     58.000000\n",
       "50%        6.000000     13.000000    117.000000\n",
       "75%        8.000000     18.000000    176.000000\n",
       "max       10.000000     24.000000    285.000000"
      ]
     },
     "metadata": {},
     "output_type": "display_data"
    },
    {
     "data": {
      "text/html": [
       "<div>\n",
       "<style scoped>\n",
       "    .dataframe tbody tr th:only-of-type {\n",
       "        vertical-align: middle;\n",
       "    }\n",
       "\n",
       "    .dataframe tbody tr th {\n",
       "        vertical-align: top;\n",
       "    }\n",
       "\n",
       "    .dataframe thead th {\n",
       "        text-align: right;\n",
       "    }\n",
       "</style>\n",
       "<table border=\"1\" class=\"dataframe\">\n",
       "  <thead>\n",
       "    <tr style=\"text-align: right;\">\n",
       "      <th></th>\n",
       "      <th>ep_name</th>\n",
       "      <th>person</th>\n",
       "      <th>text</th>\n",
       "      <th>person_orig</th>\n",
       "      <th>person_context</th>\n",
       "      <th>scene_context</th>\n",
       "      <th>text_5_prev</th>\n",
       "      <th>person_5_prev</th>\n",
       "      <th>person_2_prev</th>\n",
       "      <th>text_1_shift</th>\n",
       "      <th>text_2_shift</th>\n",
       "      <th>text_3_shift</th>\n",
       "      <th>text_4_shift</th>\n",
       "      <th>text_5_shift</th>\n",
       "    </tr>\n",
       "  </thead>\n",
       "  <tbody>\n",
       "    <tr>\n",
       "      <th>count</th>\n",
       "      <td>47790</td>\n",
       "      <td>47790</td>\n",
       "      <td>47786</td>\n",
       "      <td>47790</td>\n",
       "      <td>1114</td>\n",
       "      <td>47790</td>\n",
       "      <td>47770</td>\n",
       "      <td>47790</td>\n",
       "      <td>47790</td>\n",
       "      <td>46890</td>\n",
       "      <td>46025</td>\n",
       "      <td>45177</td>\n",
       "      <td>44358</td>\n",
       "      <td>43558</td>\n",
       "    </tr>\n",
       "    <tr>\n",
       "      <th>unique</th>\n",
       "      <td>215</td>\n",
       "      <td>8</td>\n",
       "      <td>42632</td>\n",
       "      <td>979</td>\n",
       "      <td>433</td>\n",
       "      <td>896</td>\n",
       "      <td>46822</td>\n",
       "      <td>7284</td>\n",
       "      <td>73</td>\n",
       "      <td>41816</td>\n",
       "      <td>41070</td>\n",
       "      <td>40330</td>\n",
       "      <td>39614</td>\n",
       "      <td>38906</td>\n",
       "    </tr>\n",
       "    <tr>\n",
       "      <th>top</th>\n",
       "      <td>the zazzy substitution</td>\n",
       "      <td>Sheldon</td>\n",
       "      <td>No.</td>\n",
       "      <td>Sheldon</td>\n",
       "      <td>off</td>\n",
       "      <td>The apartment.</td>\n",
       "      <td></td>\n",
       "      <td>Sheldon Leonard Sheldon Leonard Sheldon</td>\n",
       "      <td>Leonard Sheldon</td>\n",
       "      <td>No.</td>\n",
       "      <td>What?</td>\n",
       "      <td>No.</td>\n",
       "      <td>What?</td>\n",
       "      <td>What?</td>\n",
       "    </tr>\n",
       "    <tr>\n",
       "      <th>freq</th>\n",
       "      <td>272</td>\n",
       "      <td>10651</td>\n",
       "      <td>256</td>\n",
       "      <td>10456</td>\n",
       "      <td>213</td>\n",
       "      <td>7562</td>\n",
       "      <td>896</td>\n",
       "      <td>1334</td>\n",
       "      <td>3029</td>\n",
       "      <td>255</td>\n",
       "      <td>248</td>\n",
       "      <td>246</td>\n",
       "      <td>244</td>\n",
       "      <td>243</td>\n",
       "    </tr>\n",
       "  </tbody>\n",
       "</table>\n",
       "</div>"
      ],
      "text/plain": [
       "                       ep_name   person  ... text_4_shift text_5_shift\n",
       "count                    47790    47790  ...        44358        43558\n",
       "unique                     215        8  ...        39614        38906\n",
       "top     the zazzy substitution  Sheldon  ...        What?        What?\n",
       "freq                       272    10651  ...          244          243\n",
       "\n",
       "[4 rows x 14 columns]"
      ]
     },
     "metadata": {},
     "output_type": "display_data"
    },
    {
     "data": {
      "text/html": [
       "<div>\n",
       "<style scoped>\n",
       "    .dataframe tbody tr th:only-of-type {\n",
       "        vertical-align: middle;\n",
       "    }\n",
       "\n",
       "    .dataframe tbody tr th {\n",
       "        vertical-align: top;\n",
       "    }\n",
       "\n",
       "    .dataframe thead th {\n",
       "        text-align: right;\n",
       "    }\n",
       "</style>\n",
       "<table border=\"1\" class=\"dataframe\">\n",
       "  <thead>\n",
       "    <tr style=\"text-align: right;\">\n",
       "      <th></th>\n",
       "      <th>series_num</th>\n",
       "      <th>ep_num</th>\n",
       "      <th>ep_name</th>\n",
       "      <th>phrase_rank</th>\n",
       "      <th>person</th>\n",
       "      <th>text</th>\n",
       "      <th>person_orig</th>\n",
       "      <th>person_context</th>\n",
       "      <th>scene_context</th>\n",
       "      <th>text_5_prev</th>\n",
       "      <th>person_5_prev</th>\n",
       "      <th>person_2_prev</th>\n",
       "      <th>text_1_shift</th>\n",
       "      <th>text_2_shift</th>\n",
       "      <th>text_3_shift</th>\n",
       "      <th>text_4_shift</th>\n",
       "      <th>text_5_shift</th>\n",
       "    </tr>\n",
       "  </thead>\n",
       "  <tbody>\n",
       "    <tr>\n",
       "      <th>0</th>\n",
       "      <td>1</td>\n",
       "      <td>10</td>\n",
       "      <td>the loobenfeld decay</td>\n",
       "      <td>1</td>\n",
       "      <td>Leonard</td>\n",
       "      <td>See, the liquid metal Terminators were created...</td>\n",
       "      <td>Leonard</td>\n",
       "      <td>NaN</td>\n",
       "      <td>The downstairs lobby.</td>\n",
       "      <td></td>\n",
       "      <td></td>\n",
       "      <td></td>\n",
       "      <td>NaN</td>\n",
       "      <td>NaN</td>\n",
       "      <td>NaN</td>\n",
       "      <td>NaN</td>\n",
       "      <td>NaN</td>\n",
       "    </tr>\n",
       "    <tr>\n",
       "      <th>1</th>\n",
       "      <td>1</td>\n",
       "      <td>10</td>\n",
       "      <td>the loobenfeld decay</td>\n",
       "      <td>2</td>\n",
       "      <td>Sheldon</td>\n",
       "      <td>Okay, then riddle me this. Assuming all the go...</td>\n",
       "      <td>Sheldon</td>\n",
       "      <td>NaN</td>\n",
       "      <td>The downstairs lobby.</td>\n",
       "      <td>See, the liquid metal Terminators were cre...</td>\n",
       "      <td>Leonard</td>\n",
       "      <td>Leonard</td>\n",
       "      <td>See, the liquid metal Terminators were created...</td>\n",
       "      <td>NaN</td>\n",
       "      <td>NaN</td>\n",
       "      <td>NaN</td>\n",
       "      <td>NaN</td>\n",
       "    </tr>\n",
       "    <tr>\n",
       "      <th>2</th>\n",
       "      <td>1</td>\n",
       "      <td>10</td>\n",
       "      <td>the loobenfeld decay</td>\n",
       "      <td>3</td>\n",
       "      <td>Leonard</td>\n",
       "      <td>Skynet is kinky? I don’t know.</td>\n",
       "      <td>Leonard</td>\n",
       "      <td>NaN</td>\n",
       "      <td>The downstairs lobby.</td>\n",
       "      <td>See, the liquid metal Terminators were crea...</td>\n",
       "      <td>Leonard Sheldon</td>\n",
       "      <td>Leonard Sheldon</td>\n",
       "      <td>Okay, then riddle me this. Assuming all the go...</td>\n",
       "      <td>See, the liquid metal Terminators were created...</td>\n",
       "      <td>NaN</td>\n",
       "      <td>NaN</td>\n",
       "      <td>NaN</td>\n",
       "    </tr>\n",
       "  </tbody>\n",
       "</table>\n",
       "</div>"
      ],
      "text/plain": [
       "   series_num  ep_num  ... text_4_shift  text_5_shift\n",
       "0           1      10  ...          NaN           NaN\n",
       "1           1      10  ...          NaN           NaN\n",
       "2           1      10  ...          NaN           NaN\n",
       "\n",
       "[3 rows x 17 columns]"
      ]
     },
     "metadata": {},
     "output_type": "display_data"
    },
    {
     "data": {
      "text/html": [
       "<div>\n",
       "<style scoped>\n",
       "    .dataframe tbody tr th:only-of-type {\n",
       "        vertical-align: middle;\n",
       "    }\n",
       "\n",
       "    .dataframe tbody tr th {\n",
       "        vertical-align: top;\n",
       "    }\n",
       "\n",
       "    .dataframe thead th {\n",
       "        text-align: right;\n",
       "    }\n",
       "</style>\n",
       "<table border=\"1\" class=\"dataframe\">\n",
       "  <thead>\n",
       "    <tr style=\"text-align: right;\">\n",
       "      <th></th>\n",
       "      <th>series_num</th>\n",
       "      <th>ep_num</th>\n",
       "      <th>ep_name</th>\n",
       "      <th>phrase_rank</th>\n",
       "      <th>person</th>\n",
       "      <th>text</th>\n",
       "      <th>person_orig</th>\n",
       "      <th>person_context</th>\n",
       "      <th>scene_context</th>\n",
       "      <th>text_5_prev</th>\n",
       "      <th>person_5_prev</th>\n",
       "      <th>person_2_prev</th>\n",
       "      <th>text_1_shift</th>\n",
       "      <th>text_2_shift</th>\n",
       "      <th>text_3_shift</th>\n",
       "      <th>text_4_shift</th>\n",
       "      <th>text_5_shift</th>\n",
       "    </tr>\n",
       "  </thead>\n",
       "  <tbody>\n",
       "    <tr>\n",
       "      <th>47787</th>\n",
       "      <td>10</td>\n",
       "      <td>24</td>\n",
       "      <td>the long distance dissonance</td>\n",
       "      <td>231</td>\n",
       "      <td>other</td>\n",
       "      <td>What if I were?</td>\n",
       "      <td>Ramona</td>\n",
       "      <td>NaN</td>\n",
       "      <td>Sheldon’s office.</td>\n",
       "      <td>Uh, breakfast yes, lunch no. I did have a coug...</td>\n",
       "      <td>Sheldon other Sheldon other Sheldon</td>\n",
       "      <td>other Sheldon</td>\n",
       "      <td>And I with you. Question, are you seeking a ro...</td>\n",
       "      <td>Mmm. No big deal, I enjoy spending time with you.</td>\n",
       "      <td>How thoughtful. Thank you.</td>\n",
       "      <td>Well, perfect. I made us sandwiches.</td>\n",
       "      <td>Uh, breakfast yes, lunch no. I did have a coug...</td>\n",
       "    </tr>\n",
       "    <tr>\n",
       "      <th>47788</th>\n",
       "      <td>10</td>\n",
       "      <td>24</td>\n",
       "      <td>the long distance dissonance</td>\n",
       "      <td>232</td>\n",
       "      <td>Sheldon</td>\n",
       "      <td>Well, that would raise a number of problems. W...</td>\n",
       "      <td>Sheldon</td>\n",
       "      <td>NaN</td>\n",
       "      <td>Sheldon’s office.</td>\n",
       "      <td>Well, perfect. I made us sandwiches. How thoug...</td>\n",
       "      <td>other Sheldon other Sheldon other</td>\n",
       "      <td>Sheldon other</td>\n",
       "      <td>What if I were?</td>\n",
       "      <td>And I with you. Question, are you seeking a ro...</td>\n",
       "      <td>Mmm. No big deal, I enjoy spending time with you.</td>\n",
       "      <td>How thoughtful. Thank you.</td>\n",
       "      <td>Well, perfect. I made us sandwiches.</td>\n",
       "    </tr>\n",
       "    <tr>\n",
       "      <th>47789</th>\n",
       "      <td>10</td>\n",
       "      <td>24</td>\n",
       "      <td>the long distance dissonance</td>\n",
       "      <td>234</td>\n",
       "      <td>Sheldon</td>\n",
       "      <td>(Knock, knock, knock) Amy. (Knock, knock, knoc...</td>\n",
       "      <td>Sheldon</td>\n",
       "      <td>NaN</td>\n",
       "      <td>Princeton.</td>\n",
       "      <td></td>\n",
       "      <td></td>\n",
       "      <td></td>\n",
       "      <td>NaN</td>\n",
       "      <td>NaN</td>\n",
       "      <td>NaN</td>\n",
       "      <td>NaN</td>\n",
       "      <td>NaN</td>\n",
       "    </tr>\n",
       "  </tbody>\n",
       "</table>\n",
       "</div>"
      ],
      "text/plain": [
       "       series_num  ...                                       text_5_shift\n",
       "47787          10  ...  Uh, breakfast yes, lunch no. I did have a coug...\n",
       "47788          10  ...               Well, perfect. I made us sandwiches.\n",
       "47789          10  ...                                                NaN\n",
       "\n",
       "[3 rows x 17 columns]"
      ]
     },
     "metadata": {},
     "output_type": "display_data"
    }
   ],
   "source": [
    "print(df.shape)\n",
    "print(df.columns)\n",
    "print(df.info())\n",
    "display(df.describe())\n",
    "display(df.describe(include=object))\n",
    "display(df.head(3))\n",
    "display(df.tail(3))"
   ]
  },
  {
   "cell_type": "code",
   "execution_count": 10,
   "id": "e5ef145d-2403-49d6-bf8e-869d0bbb7b48",
   "metadata": {},
   "outputs": [
    {
     "name": "stdout",
     "output_type": "stream",
     "text": [
      "the 0.418 0.24968 -0.41242 0.1217 0.34527 -0.044457 -0.49688 -0.17862 -0.00066023 -0.6566 0.27843 -0.14767 -0.55677 0.14658 -0.0095095 0.011658 0.10204 -0.12792 -0.8443 -0.12181 -0.016801 -0.33279 -0.1552 -0.23131 -0.19181 -1.8823 -0.76746 0.099051 -0.42125 -0.19526 4.0071 -0.18594 -0.52287 -0.31681 0.00059213 0.0074449 0.17778 -0.15897 0.012041 -0.054223 -0.29871 -0.15749 -0.34758 -0.045637 -0.44251 0.18785 0.0027849 -0.18411 -0.11514 -0.78581\n",
      "\n",
      ", 0.013441 0.23682 -0.16899 0.40951 0.63812 0.47709 -0.42852 -0.55641 -0.364 -0.23938 0.13001 -0.063734 -0.39575 -0.48162 0.23291 0.090201 -0.13324 0.078639 -0.41634 -0.15428 0.10068 0.48891 0.31226 -0.1252 -0.037512 -1.5179 0.12612 -0.02442 -0.042961 -0.28351 3.5416 -0.11956 -0.014533 -0.1499 0.21864 -0.33412 -0.13872 0.31806 0.70358 0.44858 -0.080262 0.63003 0.32111 -0.46765 0.22786 0.36034 -0.37818 -0.56657 0.044691 0.30392\n",
      "\n",
      ". 0.15164 0.30177 -0.16763 0.17684 0.31719 0.33973 -0.43478 -0.31086 -0.44999 -0.29486 0.16608 0.11963 -0.41328 -0.42353 0.59868 0.28825 -0.11547 -0.041848 -0.67989 -0.25063 0.18472 0.086876 0.46582 0.015035 0.043474 -1.4671 -0.30384 -0.023441 0.30589 -0.21785 3.746 0.0042284 -0.18436 -0.46209 0.098329 -0.11907 0.23919 0.1161 0.41705 0.056763 -6.3681e-05 0.068987 0.087939 -0.10285 -0.13931 0.22314 -0.080803 -0.35652 0.016413 0.10216\n",
      "\n"
     ]
    }
   ],
   "source": [
    "with open('data/glove.6B.50d.txt') as f:\n",
    "    print(f.readline())\n",
    "    print(f.readline())\n",
    "    print(f.readline())"
   ]
  },
  {
   "cell_type": "code",
   "execution_count": 14,
   "id": "d7a310dd-ba16-4109-8b51-0b7b614c73dd",
   "metadata": {},
   "outputs": [
    {
     "name": "stdout",
     "output_type": "stream",
     "text": [
      "glove_v_text tokenized and vectorized\n",
      "glove_v_text_1_shift tokenized and vectorized\n",
      "glove_v_text_2_shift tokenized and vectorized\n",
      "glove_v_text_3_shift tokenized and vectorized\n",
      "glove_v_text_4_shift tokenized and vectorized\n",
      "glove_v_text_5_shift tokenized and vectorized\n"
     ]
    }
   ],
   "source": [
    "def tokenize_vectorize(corp):\n",
    "    try: \n",
    "        return v.vectorize_tokens(tk.tokenize_corpus(corp))\n",
    "    except: \n",
    "        print(corp)\n",
    "        import sys\n",
    "        sys.exit()\n",
    "\n",
    "prefix = v.col_prefix\n",
    "for col in ['text', 'text_1_shift', 'text_2_shift', 'text_3_shift', 'text_4_shift', 'text_5_shift']:\n",
    "    df[f\"{prefix}v_{col}\"] = df[col].apply(lambda text: tokenize_vectorize([text])[0])\n",
    "    print(f\"{prefix}v_{col} tokenized and vectorized\" )"
   ]
  },
  {
   "cell_type": "code",
   "execution_count": 15,
   "id": "889be41e-38c8-4e44-be5f-79ba8677cc17",
   "metadata": {},
   "outputs": [
    {
     "data": {
      "text/plain": [
       "array([0., 0., 0., 0., 0., 0., 0., 0., 0., 0., 0., 0., 0., 0., 0., 0., 0.,\n",
       "       0., 0., 0., 0., 0., 0., 0., 0., 0., 0., 0., 0., 0., 0., 0., 0., 0.,\n",
       "       0., 0., 0., 0., 0., 0., 0., 0., 0., 0., 0., 0., 0., 0., 0., 0.])"
      ]
     },
     "execution_count": 15,
     "metadata": {},
     "output_type": "execute_result"
    }
   ],
   "source": [
    "df.loc[:, 'glove_v_text_1_shift'][0]"
   ]
  },
  {
   "cell_type": "code",
   "execution_count": 25,
   "id": "e91be84c-31f1-4cce-b059-21baf4ddab60",
   "metadata": {},
   "outputs": [
    {
     "name": "stderr",
     "output_type": "stream",
     "text": [
      "[nltk_data] Downloading package punkt to\n",
      "[nltk_data]     C:\\Users\\satyr\\AppData\\Roaming\\nltk_data...\n",
      "[nltk_data]   Package punkt is already up-to-date!\n"
     ]
    },
    {
     "data": {
      "text/html": [
       "<div>\n",
       "<style scoped>\n",
       "    .dataframe tbody tr th:only-of-type {\n",
       "        vertical-align: middle;\n",
       "    }\n",
       "\n",
       "    .dataframe tbody tr th {\n",
       "        vertical-align: top;\n",
       "    }\n",
       "\n",
       "    .dataframe thead th {\n",
       "        text-align: right;\n",
       "    }\n",
       "</style>\n",
       "<table border=\"1\" class=\"dataframe\">\n",
       "  <thead>\n",
       "    <tr style=\"text-align: right;\">\n",
       "      <th></th>\n",
       "      <th>series_num</th>\n",
       "      <th>ep_num</th>\n",
       "      <th>ep_name</th>\n",
       "      <th>phrase_rank</th>\n",
       "      <th>person</th>\n",
       "      <th>text</th>\n",
       "      <th>person_orig</th>\n",
       "      <th>person_context</th>\n",
       "      <th>scene_context</th>\n",
       "      <th>text_5_prev</th>\n",
       "      <th>person_5_prev</th>\n",
       "      <th>person_2_prev</th>\n",
       "      <th>text_1_shift</th>\n",
       "      <th>text_2_shift</th>\n",
       "      <th>text_3_shift</th>\n",
       "      <th>text_4_shift</th>\n",
       "      <th>text_5_shift</th>\n",
       "      <th>glove_v_text</th>\n",
       "      <th>glove_v_text_1_shift</th>\n",
       "      <th>glove_v_text_2_shift</th>\n",
       "      <th>glove_v_text_3_shift</th>\n",
       "      <th>glove_v_text_4_shift</th>\n",
       "      <th>glove_v_text_5_shift</th>\n",
       "    </tr>\n",
       "  </thead>\n",
       "  <tbody>\n",
       "    <tr>\n",
       "      <th>0</th>\n",
       "      <td>1</td>\n",
       "      <td>10</td>\n",
       "      <td>the loobenfeld decay</td>\n",
       "      <td>1</td>\n",
       "      <td>Leonard</td>\n",
       "      <td>See, the liquid metal Terminators were created...</td>\n",
       "      <td>Leonard</td>\n",
       "      <td>NaN</td>\n",
       "      <td>The downstairs lobby.</td>\n",
       "      <td></td>\n",
       "      <td></td>\n",
       "      <td></td>\n",
       "      <td>NaN</td>\n",
       "      <td>NaN</td>\n",
       "      <td>NaN</td>\n",
       "      <td>NaN</td>\n",
       "      <td>NaN</td>\n",
       "      <td>[0.2723067179487179, 0.1632378512820513, 0.168...</td>\n",
       "      <td>[0.0, 0.0, 0.0, 0.0, 0.0, 0.0, 0.0, 0.0, 0.0, ...</td>\n",
       "      <td>[0.0, 0.0, 0.0, 0.0, 0.0, 0.0, 0.0, 0.0, 0.0, ...</td>\n",
       "      <td>[0.0, 0.0, 0.0, 0.0, 0.0, 0.0, 0.0, 0.0, 0.0, ...</td>\n",
       "      <td>[0.0, 0.0, 0.0, 0.0, 0.0, 0.0, 0.0, 0.0, 0.0, ...</td>\n",
       "      <td>[0.0, 0.0, 0.0, 0.0, 0.0, 0.0, 0.0, 0.0, 0.0, ...</td>\n",
       "    </tr>\n",
       "    <tr>\n",
       "      <th>1</th>\n",
       "      <td>1</td>\n",
       "      <td>10</td>\n",
       "      <td>the loobenfeld decay</td>\n",
       "      <td>2</td>\n",
       "      <td>Sheldon</td>\n",
       "      <td>Okay, then riddle me this. Assuming all the go...</td>\n",
       "      <td>Sheldon</td>\n",
       "      <td>NaN</td>\n",
       "      <td>The downstairs lobby.</td>\n",
       "      <td>See, the liquid metal Terminators were cre...</td>\n",
       "      <td>Leonard</td>\n",
       "      <td>Leonard</td>\n",
       "      <td>See, the liquid metal Terminators were created...</td>\n",
       "      <td>NaN</td>\n",
       "      <td>NaN</td>\n",
       "      <td>NaN</td>\n",
       "      <td>NaN</td>\n",
       "      <td>[0.24098866000000005, 0.035105239999999996, 0....</td>\n",
       "      <td>[0.2723067179487179, 0.1632378512820513, 0.168...</td>\n",
       "      <td>[0.0, 0.0, 0.0, 0.0, 0.0, 0.0, 0.0, 0.0, 0.0, ...</td>\n",
       "      <td>[0.0, 0.0, 0.0, 0.0, 0.0, 0.0, 0.0, 0.0, 0.0, ...</td>\n",
       "      <td>[0.0, 0.0, 0.0, 0.0, 0.0, 0.0, 0.0, 0.0, 0.0, ...</td>\n",
       "      <td>[0.0, 0.0, 0.0, 0.0, 0.0, 0.0, 0.0, 0.0, 0.0, ...</td>\n",
       "    </tr>\n",
       "    <tr>\n",
       "      <th>2</th>\n",
       "      <td>1</td>\n",
       "      <td>10</td>\n",
       "      <td>the loobenfeld decay</td>\n",
       "      <td>3</td>\n",
       "      <td>Leonard</td>\n",
       "      <td>Skynet is kinky? I don’t know.</td>\n",
       "      <td>Leonard</td>\n",
       "      <td>NaN</td>\n",
       "      <td>The downstairs lobby.</td>\n",
       "      <td>See, the liquid metal Terminators were crea...</td>\n",
       "      <td>Leonard Sheldon</td>\n",
       "      <td>Leonard Sheldon</td>\n",
       "      <td>Okay, then riddle me this. Assuming all the go...</td>\n",
       "      <td>See, the liquid metal Terminators were created...</td>\n",
       "      <td>NaN</td>\n",
       "      <td>NaN</td>\n",
       "      <td>NaN</td>\n",
       "      <td>[-0.10030299999999999, 0.22827099999999997, -0...</td>\n",
       "      <td>[0.24098866000000005, 0.035105239999999996, 0....</td>\n",
       "      <td>[0.2723067179487179, 0.1632378512820513, 0.168...</td>\n",
       "      <td>[0.0, 0.0, 0.0, 0.0, 0.0, 0.0, 0.0, 0.0, 0.0, ...</td>\n",
       "      <td>[0.0, 0.0, 0.0, 0.0, 0.0, 0.0, 0.0, 0.0, 0.0, ...</td>\n",
       "      <td>[0.0, 0.0, 0.0, 0.0, 0.0, 0.0, 0.0, 0.0, 0.0, ...</td>\n",
       "    </tr>\n",
       "  </tbody>\n",
       "</table>\n",
       "</div>"
      ],
      "text/plain": [
       "   series_num  ...                               glove_v_text_5_shift\n",
       "0           1  ...  [0.0, 0.0, 0.0, 0.0, 0.0, 0.0, 0.0, 0.0, 0.0, ...\n",
       "1           1  ...  [0.0, 0.0, 0.0, 0.0, 0.0, 0.0, 0.0, 0.0, 0.0, ...\n",
       "2           1  ...  [0.0, 0.0, 0.0, 0.0, 0.0, 0.0, 0.0, 0.0, 0.0, ...\n",
       "\n",
       "[3 rows x 23 columns]"
      ]
     },
     "execution_count": 25,
     "metadata": {},
     "output_type": "execute_result"
    }
   ],
   "source": [
    "df.head(3)"
   ]
  },
  {
   "cell_type": "code",
   "execution_count": 17,
   "id": "ce0bce55-4079-43e2-afd7-e58f13089141",
   "metadata": {},
   "outputs": [],
   "source": [
    "v.clear_class_memory()"
   ]
  },
  {
   "cell_type": "code",
   "execution_count": 24,
   "id": "d94901c2-357b-44d5-89f4-af398ca82f9e",
   "metadata": {},
   "outputs": [],
   "source": [
    "# мы векторизовали предобученным Glove наш корпус, сохраним результат в датафрейм\n",
    "# в виде pickle чтобы сохранить типы данных\n",
    "# df.to_excel('data/eng_script_vectorized.xlsx', header=True, index=False)\n",
    "df.to_pickle(path = 'data/eng_script_vectorized.pkl')"
   ]
  },
  {
   "cell_type": "markdown",
   "id": "b562a185-8556-4432-9443-31024660e873",
   "metadata": {},
   "source": [
    "#### 2) Векторизация SentBERT"
   ]
  },
  {
   "cell_type": "code",
   "execution_count": 1,
   "id": "c46026d6-15f7-4901-b4dc-4e87f8fa0295",
   "metadata": {},
   "outputs": [
    {
     "name": "stderr",
     "output_type": "stream",
     "text": [
      "[nltk_data] Downloading package punkt to\n",
      "[nltk_data]     C:\\Users\\satyr\\AppData\\Roaming\\nltk_data...\n",
      "[nltk_data]   Package punkt is already up-to-date!\n"
     ]
    }
   ],
   "source": [
    "# импотируем свой модуль, не внося постоянные изменения в path\n",
    "import sys\n",
    "import numpy as np\n",
    "import pandas as pd\n",
    "sys.path.append(\"C:\\\\Users\\\\satyr\\\\Documents\\\\edu\\\\nlp2\\\\hw1\\\\\")\n",
    "from my_tokenize_vectorize import Tokenizer, SentBERT_vectorizer\n",
    "from sentence_transformers import SentenceTransformer\n",
    "# используем дообученную на трипл лосс модель: triple-20e-1000-fit-all-mpnet-base-v2\n",
    "# v = SentenceTransformer('all-mpnet-base-v2') # модель без дообучения\n",
    "v = SentenceTransformer('model\\\\triple-20e-1000-fit-all-mpnet-base-v2')"
   ]
  },
  {
   "cell_type": "code",
   "execution_count": 2,
   "id": "aae88200-cddb-4134-a23b-47fb12f16e88",
   "metadata": {},
   "outputs": [],
   "source": [
    "df = pd.read_pickle('data/eng_script_vectorized.pkl')"
   ]
  },
  {
   "cell_type": "code",
   "execution_count": 3,
   "id": "0cf999fd-a117-42d7-9380-27bf5763176e",
   "metadata": {},
   "outputs": [
    {
     "data": {
      "text/plain": [
       "(47790, 23)"
      ]
     },
     "execution_count": 3,
     "metadata": {},
     "output_type": "execute_result"
    }
   ],
   "source": [
    "df.shape"
   ]
  },
  {
   "cell_type": "code",
   "execution_count": 4,
   "id": "866d7f88-0b6c-435f-b64e-b6981821ff56",
   "metadata": {},
   "outputs": [
    {
     "name": "stdout",
     "output_type": "stream",
     "text": [
      "sbert_\n"
     ]
    },
    {
     "data": {
      "application/vnd.jupyter.widget-view+json": {
       "model_id": "f7603b17b04c4ac1821df52de226a612",
       "version_major": 2,
       "version_minor": 0
      },
      "text/plain": [
       "Batches:   0%|          | 0/478 [00:00<?, ?it/s]"
      ]
     },
     "metadata": {},
     "output_type": "display_data"
    },
    {
     "name": "stdout",
     "output_type": "stream",
     "text": [
      "sbert_v_text_1_shift tokenized and vectorized\n"
     ]
    },
    {
     "data": {
      "application/vnd.jupyter.widget-view+json": {
       "model_id": "5ed170310ab84886a1692104eac7701a",
       "version_major": 2,
       "version_minor": 0
      },
      "text/plain": [
       "Batches:   0%|          | 0/478 [00:00<?, ?it/s]"
      ]
     },
     "metadata": {},
     "output_type": "display_data"
    },
    {
     "name": "stdout",
     "output_type": "stream",
     "text": [
      "sbert_v_text tokenized and vectorized\n"
     ]
    },
    {
     "data": {
      "application/vnd.jupyter.widget-view+json": {
       "model_id": "452b9bbace79485aaa5c1013da0e4da5",
       "version_major": 2,
       "version_minor": 0
      },
      "text/plain": [
       "Batches:   0%|          | 0/478 [00:00<?, ?it/s]"
      ]
     },
     "metadata": {},
     "output_type": "display_data"
    },
    {
     "name": "stdout",
     "output_type": "stream",
     "text": [
      "sbert_v_text_2_shift tokenized and vectorized\n"
     ]
    },
    {
     "data": {
      "application/vnd.jupyter.widget-view+json": {
       "model_id": "7f6a69d8003b4081b7a3353e17c39c54",
       "version_major": 2,
       "version_minor": 0
      },
      "text/plain": [
       "Batches:   0%|          | 0/478 [00:00<?, ?it/s]"
      ]
     },
     "metadata": {},
     "output_type": "display_data"
    },
    {
     "name": "stdout",
     "output_type": "stream",
     "text": [
      "sbert_v_text_3_shift tokenized and vectorized\n"
     ]
    },
    {
     "data": {
      "application/vnd.jupyter.widget-view+json": {
       "model_id": "62c9ac5e4403472f8921acaf9a8baeec",
       "version_major": 2,
       "version_minor": 0
      },
      "text/plain": [
       "Batches:   0%|          | 0/478 [00:00<?, ?it/s]"
      ]
     },
     "metadata": {},
     "output_type": "display_data"
    },
    {
     "name": "stdout",
     "output_type": "stream",
     "text": [
      "sbert_v_text_4_shift tokenized and vectorized\n"
     ]
    },
    {
     "data": {
      "application/vnd.jupyter.widget-view+json": {
       "model_id": "74288eceaa9a42bc966299c6abf4fc1b",
       "version_major": 2,
       "version_minor": 0
      },
      "text/plain": [
       "Batches:   0%|          | 0/478 [00:00<?, ?it/s]"
      ]
     },
     "metadata": {},
     "output_type": "display_data"
    },
    {
     "name": "stdout",
     "output_type": "stream",
     "text": [
      "sbert_v_text_5_shift tokenized and vectorized\n"
     ]
    }
   ],
   "source": [
    "prefix = 'sbert_'\n",
    "print(prefix)\n",
    "# ВЕРНИ В СПИСОК НИЖЕ 'text'\n",
    "for col in ['text_1_shift', 'text', 'text_2_shift', 'text_3_shift', 'text_4_shift', 'text_5_shift']:\n",
    "    df[f\"{prefix}v_{col}\"] =  [i for i in v.encode(df[col].apply(lambda x: str(x)).to_list(), show_progress_bar=True, batch_size = 100, normalize_embeddings = True)]\n",
    "    print(f\"{prefix}v_{col} tokenized and vectorized\" )"
   ]
  },
  {
   "cell_type": "code",
   "execution_count": 5,
   "id": "f8dfe73d-90bc-40c5-ba83-0ac2d8e8e0a4",
   "metadata": {},
   "outputs": [
    {
     "name": "stdout",
     "output_type": "stream",
     "text": [
      "<class 'pandas.core.frame.DataFrame'>\n",
      "RangeIndex: 47790 entries, 0 to 47789\n",
      "Data columns (total 29 columns):\n",
      " #   Column                Non-Null Count  Dtype \n",
      "---  ------                --------------  ----- \n",
      " 0   series_num            47790 non-null  int64 \n",
      " 1   ep_num                47790 non-null  int64 \n",
      " 2   ep_name               47790 non-null  object\n",
      " 3   phrase_rank           47790 non-null  int64 \n",
      " 4   person                47790 non-null  object\n",
      " 5   text                  47786 non-null  object\n",
      " 6   person_orig           47790 non-null  object\n",
      " 7   person_context        1114 non-null   object\n",
      " 8   scene_context         47790 non-null  object\n",
      " 9   text_5_prev           47770 non-null  object\n",
      " 10  person_5_prev         47790 non-null  object\n",
      " 11  person_2_prev         47790 non-null  object\n",
      " 12  text_1_shift          46890 non-null  object\n",
      " 13  text_2_shift          46025 non-null  object\n",
      " 14  text_3_shift          45177 non-null  object\n",
      " 15  text_4_shift          44358 non-null  object\n",
      " 16  text_5_shift          43558 non-null  object\n",
      " 17  glove_v_text          47790 non-null  object\n",
      " 18  glove_v_text_1_shift  47790 non-null  object\n",
      " 19  glove_v_text_2_shift  47790 non-null  object\n",
      " 20  glove_v_text_3_shift  47790 non-null  object\n",
      " 21  glove_v_text_4_shift  47790 non-null  object\n",
      " 22  glove_v_text_5_shift  47790 non-null  object\n",
      " 23  sbert_v_text_1_shift  47790 non-null  object\n",
      " 24  sbert_v_text          47790 non-null  object\n",
      " 25  sbert_v_text_2_shift  47790 non-null  object\n",
      " 26  sbert_v_text_3_shift  47790 non-null  object\n",
      " 27  sbert_v_text_4_shift  47790 non-null  object\n",
      " 28  sbert_v_text_5_shift  47790 non-null  object\n",
      "dtypes: int64(3), object(26)\n",
      "memory usage: 10.6+ MB\n"
     ]
    }
   ],
   "source": [
    "df.info()"
   ]
  },
  {
   "cell_type": "code",
   "execution_count": 6,
   "id": "e3d3ab20-01e5-484a-9f2a-c644c66e8452",
   "metadata": {},
   "outputs": [],
   "source": [
    "df.to_pickle(path = 'data/eng_script_vectorized_v3.pkl')"
   ]
  }
 ],
 "metadata": {
  "kernelspec": {
   "display_name": "Python 3 (Spyder)",
   "language": "python3",
   "name": "python3"
  },
  "language_info": {
   "codemirror_mode": {
    "name": "ipython",
    "version": 3
   },
   "file_extension": ".py",
   "mimetype": "text/x-python",
   "name": "python",
   "nbconvert_exporter": "python",
   "pygments_lexer": "ipython3",
   "version": "3.11.5"
  }
 },
 "nbformat": 4,
 "nbformat_minor": 5
}
